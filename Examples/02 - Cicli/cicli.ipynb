{
 "cells": [
  {
   "cell_type": "markdown",
   "metadata": {},
   "source": [
    "# Cicli"
   ]
  },
  {
   "cell_type": "markdown",
   "metadata": {},
   "source": [
    "## while"
   ]
  },
  {
   "cell_type": "code",
   "execution_count": 2,
   "metadata": {},
   "outputs": [
    {
     "name": "stdout",
     "output_type": "stream",
     "text": [
      "Countdown:  1\r"
     ]
    }
   ],
   "source": [
    "import time\n",
    "a=10\n",
    "\n",
    "while a>0:\n",
    "    print(f\"Countdown: {a:>2}\", end=\"\\r\") \n",
    "    a-=1\n",
    "    time.sleep(0.2)"
   ]
  },
  {
   "cell_type": "markdown",
   "metadata": {},
   "source": [
    "## for e continue"
   ]
  },
  {
   "cell_type": "code",
   "execution_count": 3,
   "metadata": {},
   "outputs": [
    {
     "name": "stdout",
     "output_type": "stream",
     "text": [
      "mele\n"
     ]
    }
   ],
   "source": [
    "frutta = [\"mele\", \"pere\", \"banane\"]\n",
    "for x in frutta:\n",
    "  if x == \"pere\":\n",
    "    break\n",
    "  print(x)\n",
    "else:\n",
    "  print(\"Finito!!\")"
   ]
  },
  {
   "cell_type": "code",
   "execution_count": 4,
   "metadata": {},
   "outputs": [
    {
     "name": "stdout",
     "output_type": "stream",
     "text": [
      "Mi piaccioni le \n",
      "M\n",
      "E\n",
      "L\n",
      "E\n"
     ]
    }
   ],
   "source": [
    "print(\"Mi piaccioni le \")\n",
    "for elem in 'mele':\n",
    "    print(f\"{elem.upper()}\")"
   ]
  },
  {
   "cell_type": "code",
   "execution_count": 5,
   "metadata": {},
   "outputs": [],
   "source": [
    "frutta={\"comune\":{\"mele\",\"pere\"},\"esotica\":{\"banane\",\"papaja\"}}"
   ]
  },
  {
   "cell_type": "code",
   "execution_count": 6,
   "metadata": {},
   "outputs": [
    {
     "name": "stdout",
     "output_type": "stream",
     "text": [
      "Mi piacciono le comune\n",
      "Mi piacciono le esotica\n"
     ]
    }
   ],
   "source": [
    "for elem in frutta:\n",
    "    print(f\"Mi piacciono le {elem}\")"
   ]
  },
  {
   "cell_type": "code",
   "execution_count": 7,
   "metadata": {},
   "outputs": [
    {
     "name": "stdout",
     "output_type": "stream",
     "text": [
      "Per la frutta comune:\n",
      "\tMi piacciono le pere\n",
      "Per la frutta esotica:\n",
      "\tMi piacciono le papaja\n",
      "\tMi piacciono le banane\n"
     ]
    }
   ],
   "source": [
    "for outer in frutta:\n",
    "    print(f\"Per la frutta {outer}:\")\n",
    "    for inner in frutta[outer]:\n",
    "        if inner ==\"mele\":\n",
    "            break\n",
    "        print(f\"\\tMi piacciono le {inner}\")"
   ]
  },
  {
   "cell_type": "markdown",
   "metadata": {},
   "source": [
    "## enumerate"
   ]
  },
  {
   "cell_type": "code",
   "execution_count": 8,
   "metadata": {},
   "outputs": [
    {
     "name": "stdout",
     "output_type": "stream",
     "text": [
      "[(0, 'apple'), (1, 'banana'), (2, 'cherry')]\n"
     ]
    }
   ],
   "source": [
    "x = ('apple', 'banana', 'cherry')\n",
    "y = enumerate(x)\n",
    "print(list(y))"
   ]
  },
  {
   "cell_type": "markdown",
   "metadata": {},
   "source": [
    "***list*** trasforma un oggetto iterabile in una lista"
   ]
  },
  {
   "cell_type": "code",
   "execution_count": 9,
   "metadata": {},
   "outputs": [
    {
     "name": "stdout",
     "output_type": "stream",
     "text": [
      "0: apple\n",
      "1: banana\n",
      "2: cherry\n"
     ]
    }
   ],
   "source": [
    "x = ('apple', 'banana', 'cherry')\n",
    "for idx, value in enumerate(x):\n",
    "  print(f\"{idx}: {value}\")"
   ]
  },
  {
   "cell_type": "markdown",
   "metadata": {},
   "source": [
    "## Manipolazione di Array"
   ]
  },
  {
   "cell_type": "code",
   "execution_count": 10,
   "metadata": {
    "tags": []
   },
   "outputs": [],
   "source": [
    "x=['casa','chiesa','cosa']"
   ]
  },
  {
   "cell_type": "code",
   "execution_count": 11,
   "metadata": {},
   "outputs": [
    {
     "name": "stdout",
     "output_type": "stream",
     "text": [
      "['Casa', 'Chiesa', 'Cosa']\n"
     ]
    }
   ],
   "source": [
    "y=[]\n",
    "for item in x:\n",
    "    y.append(item.title())\n",
    "print(y)"
   ]
  },
  {
   "cell_type": "code",
   "execution_count": 12,
   "metadata": {},
   "outputs": [
    {
     "name": "stdout",
     "output_type": "stream",
     "text": [
      "['Casa', 'Chiesa', 'Cosa']\n"
     ]
    }
   ],
   "source": [
    "z=[item.title() for item in x]\n",
    "print(z)"
   ]
  },
  {
   "cell_type": "code",
   "execution_count": null,
   "metadata": {},
   "outputs": [],
   "source": []
  }
 ],
 "metadata": {
  "interpreter": {
   "hash": "aee8b7b246df8f9039afb4144a1f6fd8d2ca17a180786b69acc140d282b71a49"
  },
  "kernelspec": {
   "display_name": "Python 3 (ipykernel)",
   "language": "python",
   "name": "python3"
  },
  "language_info": {
   "codemirror_mode": {
    "name": "ipython",
    "version": 3
   },
   "file_extension": ".py",
   "mimetype": "text/x-python",
   "name": "python",
   "nbconvert_exporter": "python",
   "pygments_lexer": "ipython3",
   "version": "3.11.1"
  }
 },
 "nbformat": 4,
 "nbformat_minor": 4
}

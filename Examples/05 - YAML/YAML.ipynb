{
 "cells": [
  {
   "cell_type": "markdown",
   "id": "ef651297-818c-4035-bca6-f10d4074f281",
   "metadata": {},
   "source": [
    "# YAML"
   ]
  },
  {
   "cell_type": "markdown",
   "id": "12c2c9fd-d132-4b46-9ce8-9c8c9b6b300a",
   "metadata": {},
   "source": [
    "**installiamo YAML**\n",
    "per installare yaml usiamo il comando\n",
    "```bash\n",
    "python3 -m pip install PyYaml\n",
    "```"
   ]
  },
  {
   "cell_type": "code",
   "execution_count": null,
   "id": "db223de7-8f6e-44d4-9c63-b86ae6c2d0d4",
   "metadata": {
    "tags": []
   },
   "outputs": [],
   "source": [
    "import yaml\n",
    "from rich.console import Console\n",
    "console=Console()"
   ]
  },
  {
   "cell_type": "code",
   "execution_count": null,
   "id": "e0101d69-e646-4750-9645-b48276f2b906",
   "metadata": {
    "tags": []
   },
   "outputs": [],
   "source": [
    "cfg=yaml.safe_load(open('configure.yml'))"
   ]
  },
  {
   "cell_type": "code",
   "execution_count": null,
   "id": "6305576e-12ec-4452-878c-0f0192de6b91",
   "metadata": {
    "tags": []
   },
   "outputs": [],
   "source": [
    "console.print(cfg)"
   ]
  },
  {
   "cell_type": "code",
   "execution_count": null,
   "id": "51cd6f04-4693-4d3a-a750-7b883dd0591e",
   "metadata": {
    "tags": []
   },
   "outputs": [],
   "source": [
    "adv=yaml.safe_load(open('advanced.yml'))\n",
    "console.print(adv)"
   ]
  }
 ],
 "metadata": {
  "kernelspec": {
   "display_name": "Python 3 (ipykernel)",
   "language": "python",
   "name": "python3"
  },
  "language_info": {
   "codemirror_mode": {
    "name": "ipython",
    "version": 3
   },
   "file_extension": ".py",
   "mimetype": "text/x-python",
   "name": "python",
   "nbconvert_exporter": "python",
   "pygments_lexer": "ipython3",
   "version": "3.11.1"
  }
 },
 "nbformat": 4,
 "nbformat_minor": 5
}
